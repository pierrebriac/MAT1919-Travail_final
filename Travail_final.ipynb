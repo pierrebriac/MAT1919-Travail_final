{
 "cells": [
  {
   "cell_type": "code",
   "execution_count": 163,
   "id": "829bcba5-b2af-4637-8ba2-469554563d65",
   "metadata": {},
   "outputs": [],
   "source": [
    "import scipy as sp\n",
    "import numpy as np\n",
    "import matplotlib.pyplot as plt\n",
    "from scipy.integrate import odeint"
   ]
  },
  {
   "cell_type": "code",
   "execution_count": 164,
   "id": "2afaa9e3-e0d9-43cd-ad3f-c5a76ba4012a",
   "metadata": {},
   "outputs": [],
   "source": [
    "# Paramètres du modèle de Hodgkin-Huxley\n",
    "params_hodgkin_huxley = {\n",
    "    'C_m': 1.0,    # Capacitance de la membrane par unité de surface (uF/cm^2)\n",
    "    'g_Na': 120.0, # Conductance maximale des canaux sodium par unité de surface (mS/cm^2)\n",
    "    'g_K': 36.0,   # Conductance maximale des canaux potassium par unité de surface (mS/cm^2)\n",
    "    'g_L': 0.3,    # Conductance de fuite maximale par unité de surface (mS/cm^2)\n",
    "    'E_Na': 50.0,  # Potentiel d'inversion du sodium (mV)\n",
    "    'E_K': -77.0,  # Potentiel d'inversion du potassium (mV)\n",
    "    'E_L': -54.387 # Potentiel d'inversion de fuite (mV)\n",
    "}"
   ]
  },
  {
   "cell_type": "code",
   "execution_count": 165,
   "id": "c4ca6f1c-a1cc-4c64-9cef-9cc9189568b0",
   "metadata": {},
   "outputs": [],
   "source": [
    "# temps pour la simulation\n",
    "t = np.arange(0.0, 450.0, 0.01)\n",
    "\n",
    "# fonction définissant le courant entrant pour la simulation\n",
    "def I_inj1(t):\n",
    "    return 0*(t>0)\n",
    "\n",
    "def I_inj2(t):\n",
    "    return 1*(t>=0)\n",
    "\n",
    "def I_inj3(t):\n",
    "    return 2*(t>=0)\n",
    "\n",
    "def I_inj4(t):\n",
    "    return 3*(t>=0)\n",
    "\n",
    "def I_inj5(t):\n",
    "    return 4*(t>=0)\n",
    "\n",
    "def I_inj6(t):\n",
    "    return 5*(t>=0)\n",
    "\n",
    "def I_inj7(t):\n",
    "    return 6*(t>=0)\n",
    "\n",
    "def I_inj8(t):\n",
    "    return 7*(t>=0)\n",
    "\n",
    "def I_inj9(t):\n",
    "    return 8*(t>=0)\n",
    "\n",
    "def I_inj10(t):\n",
    "    return 9*(t>=0)"
   ]
  },
  {
   "cell_type": "code",
   "execution_count": 166,
   "id": "15b2ee60-4744-4074-9742-51d38d946059",
   "metadata": {},
   "outputs": [],
   "source": [
    "# valeurs initiales de courant global et pour chaque canal ionique\n",
    "val_init = [-65, 0.05, 0.6, 0.32]"
   ]
  },
  {
   "cell_type": "code",
   "execution_count": 167,
   "id": "2fe2aef1-bad2-41f9-b77a-23b8c35199d6",
   "metadata": {},
   "outputs": [],
   "source": [
    "# créé à partir du modèle sur le site https://hodgkin-huxley-tutorial.readthedocs.io/en/latest/index.html\n",
    "class HodgkinHuxley():\n",
    "    \"\"\"Full Hodgkin-Huxley Model implemented in Python\"\"\"\n",
    "\n",
    "    def __init__(self, params):\n",
    "        self.C_m  =   params['C_m']\n",
    "        \"\"\"membrane capacitance, in uF/cm^2\"\"\"\n",
    "\n",
    "        self.g_Na = params['g_Na']\n",
    "        \"\"\"Sodium (Na) maximum conductances, in mS/cm^2\"\"\"\n",
    "\n",
    "        self.g_K  =  params['g_K']\n",
    "        \"\"\"Postassium (K) maximum conductances, in mS/cm^2\"\"\"\n",
    "\n",
    "        self.g_L  =   params['g_L']\n",
    "        \"\"\"Leak maximum conductances, in mS/cm^2\"\"\"\n",
    "\n",
    "        self.E_Na =  params['E_Na']\n",
    "        \"\"\"Sodium (Na) Nernst reversal potentials, in mV\"\"\"\n",
    "\n",
    "        self.E_K  = params['E_K']\n",
    "        \"\"\"Postassium (K) Nernst reversal potentials, in mV\"\"\"\n",
    "\n",
    "        self.E_L  = params['E_L']\n",
    "        \"\"\"Leak Nernst reversal potentials, in mV\"\"\"\n",
    "\n",
    "    def alpha_m(self, V):\n",
    "        \"\"\"Channel gating kinetics. Functions of membrane voltage\"\"\"\n",
    "        return 0.1*(V+40.0)/(1.0 - np.exp(-(V+40.0) / 10.0))\n",
    "\n",
    "    def beta_m(self, V):\n",
    "        \"\"\"Channel gating kinetics. Functions of membrane voltage\"\"\"\n",
    "        return 4.0*np.exp(-(V+65.0) / 18.0)\n",
    "\n",
    "    def alpha_h(self, V):\n",
    "        \"\"\"Channel gating kinetics. Functions of membrane voltage\"\"\"\n",
    "        return 0.07*np.exp(-(V+65.0) / 20.0)\n",
    "\n",
    "    def beta_h(self, V):\n",
    "        \"\"\"Channel gating kinetics. Functions of membrane voltage\"\"\"\n",
    "        return 1.0/(1.0 + np.exp(-(V+35.0) / 10.0))\n",
    "\n",
    "    def alpha_n(self, V):\n",
    "        \"\"\"Channel gating kinetics. Functions of membrane voltage\"\"\"\n",
    "        return 0.01*(V+55.0)/(1.0 - np.exp(-(V+55.0) / 10.0))\n",
    "\n",
    "    def beta_n(self, V):\n",
    "        \"\"\"Channel gating kinetics. Functions of membrane voltage\"\"\"\n",
    "        return 0.125*np.exp(-(V+65) / 80.0)\n",
    "\n",
    "    def I_Na(self, V, m, h):\n",
    "        \"\"\"\n",
    "        Membrane current (in uA/cm^2)\n",
    "        Sodium (Na = element name)\n",
    "\n",
    "        |  :param V:\n",
    "        |  :param m:\n",
    "        |  :param h:\n",
    "        |  :return:\n",
    "        \"\"\"\n",
    "        return self.g_Na * m**3 * h * (V - self.E_Na)\n",
    "\n",
    "    def I_K(self, V, n):\n",
    "        \"\"\"\n",
    "        Membrane current (in uA/cm^2)\n",
    "        Potassium (K = element name)\n",
    "\n",
    "        |  :param V:\n",
    "        |  :param h:\n",
    "        |  :return:\n",
    "        \"\"\"\n",
    "        return self.g_K  * n**4 * (V - self.E_K)\n",
    "    #  Leak\n",
    "    def I_L(self, V):\n",
    "        \"\"\"\n",
    "        Membrane current (in uA/cm^2)\n",
    "        Leak\n",
    "\n",
    "        |  :param V:\n",
    "        |  :param h:\n",
    "        |  :return:\n",
    "        \"\"\"\n",
    "        return self.g_L * (V - self.E_L)\n",
    "\n",
    "    @staticmethod\n",
    "    def dALLdt(X, t, self, I_inj):\n",
    "        \"\"\"\n",
    "        Integrate\n",
    "\n",
    "        |  :param X:\n",
    "        |  :param t:\n",
    "        |  :return: calculate membrane potential & activation variables\n",
    "        \"\"\"\n",
    "        V, m, h, n = X\n",
    "\n",
    "        dVdt = (I_inj(t) - self.I_Na(V, m, h) - self.I_K(V, n) - self.I_L(V)) / self.C_m\n",
    "        dmdt = self.alpha_m(V)*(1.0-m) - self.beta_m(V)*m\n",
    "        dhdt = self.alpha_h(V)*(1.0-h) - self.beta_h(V)*h\n",
    "        dndt = self.alpha_n(V)*(1.0-n) - self.beta_n(V)*n\n",
    "        return dVdt, dmdt, dhdt, dndt\n",
    "\n",
    "    def simulation(self, t, val_init, I_inj):\n",
    "        \"\"\"\n",
    "        Main demo for the Hodgkin Huxley neuron model\n",
    "        \"\"\"\n",
    "\n",
    "        X = odeint(self.dALLdt, val_init, t, args=(self,I_inj))\n",
    "        V = X[:,0]\n",
    "        m = X[:,1]\n",
    "        h = X[:,2]\n",
    "        n = X[:,3]\n",
    "        ina = self.I_Na(V, m, h)\n",
    "        ik = self.I_K(V, n)\n",
    "        il = self.I_L(V)\n",
    "    \n",
    "        return {'V':V, 'm':m, 'h':h, 'n':n, 'ina':ina, 'ik':ik, 'il':il}\n"
   ]
  },
  {
   "cell_type": "code",
   "execution_count": 168,
   "id": "d5369f22-c1af-4ede-87b0-7ca6c3b8d38c",
   "metadata": {},
   "outputs": [],
   "source": [
    "# Initialisation du modèle\n",
    "hh = HodgkinHuxley(params_hodgkin_huxley)\n",
    "# Exécution de la simulation\n",
    "resultat1 = hh.simulation(t, val_init, I_inj1)\n",
    "resultat2 = hh.simulation(t, val_init, I_inj2)\n",
    "resultat3 = hh.simulation(t, val_init, I_inj3)\n",
    "resultat4 = hh.simulation(t, val_init, I_inj4)\n",
    "resultat5 = hh.simulation(t, val_init, I_inj5)\n",
    "resultat6 = hh.simulation(t, val_init, I_inj6)\n",
    "resultat7 = hh.simulation(t, val_init, I_inj7)\n",
    "resultat8 = hh.simulation(t, val_init, I_inj8)\n",
    "resultat9 = hh.simulation(t, val_init, I_inj9)\n",
    "resultat10 = hh.simulation(t, val_init, I_inj10)"
   ]
  },
  {
   "cell_type": "code",
   "execution_count": 169,
   "id": "4a327a6d-7742-49a6-b375-b31c7c3b2bf6",
   "metadata": {},
   "outputs": [],
   "source": [
    "def I_inj(t): \n",
    "    return (resultat1['V'] + resultat2['V'] +resultat3['V'] +resultat4['V'] +resultat5['V'] +resultat6['V'] +resultat7['V'] +resultat8['V'] +resultat9['V'] +resultat10['V']) / 10"
   ]
  },
  {
   "cell_type": "code",
   "execution_count": 170,
   "id": "3398c1d6-cf09-436d-ad0a-7be782357785",
   "metadata": {},
   "outputs": [],
   "source": [
    "No_i = I_inj(t)"
   ]
  },
  {
   "cell_type": "code",
   "execution_count": 171,
   "id": "44899b20-5b45-4088-aa6d-8df2ba62832e",
   "metadata": {},
   "outputs": [
    {
     "data": {
      "text/plain": [
       "array([-65.        , -64.95821284, -64.91662963, ..., -59.64565582,\n",
       "       -59.67536259, -59.70486352])"
      ]
     },
     "execution_count": 171,
     "metadata": {},
     "output_type": "execute_result"
    }
   ],
   "source": [
    "No_i"
   ]
  },
  {
   "cell_type": "code",
   "execution_count": 174,
   "id": "2d96bf55-4a12-46e6-a409-b5054d20b383",
   "metadata": {},
   "outputs": [],
   "source": [
    "def I_inj(t):\n",
    "    return ((I_inj1(t) + I_inj2(t) + I_inj3(t) + I_inj4(t) + I_inj5(t) + I_inj6(t) + I_inj7(t) + I_inj8(t) + I_inj9(t) + I_inj10(t)) / 10)"
   ]
  },
  {
   "cell_type": "code",
   "execution_count": 175,
   "id": "79f609a2-e9c7-4502-b3ce-9bd8d236cd15",
   "metadata": {},
   "outputs": [
    {
     "ename": "TypeError",
     "evalue": "'numpy.ndarray' object is not callable",
     "output_type": "error",
     "traceback": [
      "\u001b[0;31m---------------------------------------------------------------------------\u001b[0m",
      "\u001b[0;31mTypeError\u001b[0m                                 Traceback (most recent call last)",
      "\u001b[0;32m<ipython-input-175-644704b2920f>\u001b[0m in \u001b[0;36m<module>\u001b[0;34m\u001b[0m\n\u001b[0;32m----> 1\u001b[0;31m \u001b[0mresultat_No\u001b[0m \u001b[0;34m=\u001b[0m \u001b[0mhh\u001b[0m\u001b[0;34m.\u001b[0m\u001b[0msimulation\u001b[0m\u001b[0;34m(\u001b[0m\u001b[0mt\u001b[0m\u001b[0;34m,\u001b[0m \u001b[0mval_init\u001b[0m\u001b[0;34m,\u001b[0m \u001b[0mI_inj\u001b[0m\u001b[0;34m(\u001b[0m\u001b[0mt\u001b[0m\u001b[0;34m)\u001b[0m\u001b[0;34m)\u001b[0m\u001b[0;34m\u001b[0m\u001b[0;34m\u001b[0m\u001b[0m\n\u001b[0m",
      "\u001b[0;32m<ipython-input-167-fcd3b66c50c5>\u001b[0m in \u001b[0;36msimulation\u001b[0;34m(self, t, val_init, I_inj)\u001b[0m\n\u001b[1;32m    105\u001b[0m         \"\"\"\n\u001b[1;32m    106\u001b[0m \u001b[0;34m\u001b[0m\u001b[0m\n\u001b[0;32m--> 107\u001b[0;31m         \u001b[0mX\u001b[0m \u001b[0;34m=\u001b[0m \u001b[0modeint\u001b[0m\u001b[0;34m(\u001b[0m\u001b[0mself\u001b[0m\u001b[0;34m.\u001b[0m\u001b[0mdALLdt\u001b[0m\u001b[0;34m,\u001b[0m \u001b[0mval_init\u001b[0m\u001b[0;34m,\u001b[0m \u001b[0mt\u001b[0m\u001b[0;34m,\u001b[0m \u001b[0margs\u001b[0m\u001b[0;34m=\u001b[0m\u001b[0;34m(\u001b[0m\u001b[0mself\u001b[0m\u001b[0;34m,\u001b[0m\u001b[0mI_inj\u001b[0m\u001b[0;34m)\u001b[0m\u001b[0;34m)\u001b[0m\u001b[0;34m\u001b[0m\u001b[0;34m\u001b[0m\u001b[0m\n\u001b[0m\u001b[1;32m    108\u001b[0m         \u001b[0mV\u001b[0m \u001b[0;34m=\u001b[0m \u001b[0mX\u001b[0m\u001b[0;34m[\u001b[0m\u001b[0;34m:\u001b[0m\u001b[0;34m,\u001b[0m\u001b[0;36m0\u001b[0m\u001b[0;34m]\u001b[0m\u001b[0;34m\u001b[0m\u001b[0;34m\u001b[0m\u001b[0m\n\u001b[1;32m    109\u001b[0m         \u001b[0mm\u001b[0m \u001b[0;34m=\u001b[0m \u001b[0mX\u001b[0m\u001b[0;34m[\u001b[0m\u001b[0;34m:\u001b[0m\u001b[0;34m,\u001b[0m\u001b[0;36m1\u001b[0m\u001b[0;34m]\u001b[0m\u001b[0;34m\u001b[0m\u001b[0;34m\u001b[0m\u001b[0m\n",
      "\u001b[0;32m~/opt/anaconda3/lib/python3.8/site-packages/scipy/integrate/odepack.py\u001b[0m in \u001b[0;36modeint\u001b[0;34m(func, y0, t, args, Dfun, col_deriv, full_output, ml, mu, rtol, atol, tcrit, h0, hmax, hmin, ixpr, mxstep, mxhnil, mxordn, mxords, printmessg, tfirst)\u001b[0m\n\u001b[1;32m    239\u001b[0m     \u001b[0mt\u001b[0m \u001b[0;34m=\u001b[0m \u001b[0mcopy\u001b[0m\u001b[0;34m(\u001b[0m\u001b[0mt\u001b[0m\u001b[0;34m)\u001b[0m\u001b[0;34m\u001b[0m\u001b[0;34m\u001b[0m\u001b[0m\n\u001b[1;32m    240\u001b[0m     \u001b[0my0\u001b[0m \u001b[0;34m=\u001b[0m \u001b[0mcopy\u001b[0m\u001b[0;34m(\u001b[0m\u001b[0my0\u001b[0m\u001b[0;34m)\u001b[0m\u001b[0;34m\u001b[0m\u001b[0;34m\u001b[0m\u001b[0m\n\u001b[0;32m--> 241\u001b[0;31m     output = _odepack.odeint(func, y0, t, args, Dfun, col_deriv, ml, mu,\n\u001b[0m\u001b[1;32m    242\u001b[0m                              \u001b[0mfull_output\u001b[0m\u001b[0;34m,\u001b[0m \u001b[0mrtol\u001b[0m\u001b[0;34m,\u001b[0m \u001b[0matol\u001b[0m\u001b[0;34m,\u001b[0m \u001b[0mtcrit\u001b[0m\u001b[0;34m,\u001b[0m \u001b[0mh0\u001b[0m\u001b[0;34m,\u001b[0m \u001b[0mhmax\u001b[0m\u001b[0;34m,\u001b[0m \u001b[0mhmin\u001b[0m\u001b[0;34m,\u001b[0m\u001b[0;34m\u001b[0m\u001b[0;34m\u001b[0m\u001b[0m\n\u001b[1;32m    243\u001b[0m                              \u001b[0mixpr\u001b[0m\u001b[0;34m,\u001b[0m \u001b[0mmxstep\u001b[0m\u001b[0;34m,\u001b[0m \u001b[0mmxhnil\u001b[0m\u001b[0;34m,\u001b[0m \u001b[0mmxordn\u001b[0m\u001b[0;34m,\u001b[0m \u001b[0mmxords\u001b[0m\u001b[0;34m,\u001b[0m\u001b[0;34m\u001b[0m\u001b[0;34m\u001b[0m\u001b[0m\n",
      "\u001b[0;32m<ipython-input-167-fcd3b66c50c5>\u001b[0m in \u001b[0;36mdALLdt\u001b[0;34m(X, t, self, I_inj)\u001b[0m\n\u001b[1;32m     94\u001b[0m         \u001b[0mV\u001b[0m\u001b[0;34m,\u001b[0m \u001b[0mm\u001b[0m\u001b[0;34m,\u001b[0m \u001b[0mh\u001b[0m\u001b[0;34m,\u001b[0m \u001b[0mn\u001b[0m \u001b[0;34m=\u001b[0m \u001b[0mX\u001b[0m\u001b[0;34m\u001b[0m\u001b[0;34m\u001b[0m\u001b[0m\n\u001b[1;32m     95\u001b[0m \u001b[0;34m\u001b[0m\u001b[0m\n\u001b[0;32m---> 96\u001b[0;31m         \u001b[0mdVdt\u001b[0m \u001b[0;34m=\u001b[0m \u001b[0;34m(\u001b[0m\u001b[0mI_inj\u001b[0m\u001b[0;34m(\u001b[0m\u001b[0mt\u001b[0m\u001b[0;34m)\u001b[0m \u001b[0;34m-\u001b[0m \u001b[0mself\u001b[0m\u001b[0;34m.\u001b[0m\u001b[0mI_Na\u001b[0m\u001b[0;34m(\u001b[0m\u001b[0mV\u001b[0m\u001b[0;34m,\u001b[0m \u001b[0mm\u001b[0m\u001b[0;34m,\u001b[0m \u001b[0mh\u001b[0m\u001b[0;34m)\u001b[0m \u001b[0;34m-\u001b[0m \u001b[0mself\u001b[0m\u001b[0;34m.\u001b[0m\u001b[0mI_K\u001b[0m\u001b[0;34m(\u001b[0m\u001b[0mV\u001b[0m\u001b[0;34m,\u001b[0m \u001b[0mn\u001b[0m\u001b[0;34m)\u001b[0m \u001b[0;34m-\u001b[0m \u001b[0mself\u001b[0m\u001b[0;34m.\u001b[0m\u001b[0mI_L\u001b[0m\u001b[0;34m(\u001b[0m\u001b[0mV\u001b[0m\u001b[0;34m)\u001b[0m\u001b[0;34m)\u001b[0m \u001b[0;34m/\u001b[0m \u001b[0mself\u001b[0m\u001b[0;34m.\u001b[0m\u001b[0mC_m\u001b[0m\u001b[0;34m\u001b[0m\u001b[0;34m\u001b[0m\u001b[0m\n\u001b[0m\u001b[1;32m     97\u001b[0m         \u001b[0mdmdt\u001b[0m \u001b[0;34m=\u001b[0m \u001b[0mself\u001b[0m\u001b[0;34m.\u001b[0m\u001b[0malpha_m\u001b[0m\u001b[0;34m(\u001b[0m\u001b[0mV\u001b[0m\u001b[0;34m)\u001b[0m\u001b[0;34m*\u001b[0m\u001b[0;34m(\u001b[0m\u001b[0;36m1.0\u001b[0m\u001b[0;34m-\u001b[0m\u001b[0mm\u001b[0m\u001b[0;34m)\u001b[0m \u001b[0;34m-\u001b[0m \u001b[0mself\u001b[0m\u001b[0;34m.\u001b[0m\u001b[0mbeta_m\u001b[0m\u001b[0;34m(\u001b[0m\u001b[0mV\u001b[0m\u001b[0;34m)\u001b[0m\u001b[0;34m*\u001b[0m\u001b[0mm\u001b[0m\u001b[0;34m\u001b[0m\u001b[0;34m\u001b[0m\u001b[0m\n\u001b[1;32m     98\u001b[0m         \u001b[0mdhdt\u001b[0m \u001b[0;34m=\u001b[0m \u001b[0mself\u001b[0m\u001b[0;34m.\u001b[0m\u001b[0malpha_h\u001b[0m\u001b[0;34m(\u001b[0m\u001b[0mV\u001b[0m\u001b[0;34m)\u001b[0m\u001b[0;34m*\u001b[0m\u001b[0;34m(\u001b[0m\u001b[0;36m1.0\u001b[0m\u001b[0;34m-\u001b[0m\u001b[0mh\u001b[0m\u001b[0;34m)\u001b[0m \u001b[0;34m-\u001b[0m \u001b[0mself\u001b[0m\u001b[0;34m.\u001b[0m\u001b[0mbeta_h\u001b[0m\u001b[0;34m(\u001b[0m\u001b[0mV\u001b[0m\u001b[0;34m)\u001b[0m\u001b[0;34m*\u001b[0m\u001b[0mh\u001b[0m\u001b[0;34m\u001b[0m\u001b[0;34m\u001b[0m\u001b[0m\n",
      "\u001b[0;31mTypeError\u001b[0m: 'numpy.ndarray' object is not callable"
     ]
    }
   ],
   "source": [
    "resultat_No = hh.simulation(t, val_init, I_inj(t))"
   ]
  },
  {
   "cell_type": "code",
   "execution_count": 67,
   "id": "293d61d5-bd4e-4a96-9d30-505ee4776ab7",
   "metadata": {},
   "outputs": [
    {
     "ename": "NameError",
     "evalue": "name 'resultat_No' is not defined",
     "output_type": "error",
     "traceback": [
      "\u001b[0;31m---------------------------------------------------------------------------\u001b[0m",
      "\u001b[0;31mNameError\u001b[0m                                 Traceback (most recent call last)",
      "\u001b[0;32m<ipython-input-67-eef971c8fe5e>\u001b[0m in \u001b[0;36m<module>\u001b[0;34m\u001b[0m\n\u001b[1;32m      4\u001b[0m \u001b[0mplt\u001b[0m\u001b[0;34m.\u001b[0m\u001b[0msubplot\u001b[0m\u001b[0;34m(\u001b[0m\u001b[0;36m4\u001b[0m\u001b[0;34m,\u001b[0m\u001b[0;36m1\u001b[0m\u001b[0;34m,\u001b[0m\u001b[0;36m1\u001b[0m\u001b[0;34m)\u001b[0m\u001b[0;34m\u001b[0m\u001b[0;34m\u001b[0m\u001b[0m\n\u001b[1;32m      5\u001b[0m \u001b[0mplt\u001b[0m\u001b[0;34m.\u001b[0m\u001b[0mtitle\u001b[0m\u001b[0;34m(\u001b[0m\u001b[0;34m'Hodgkin-Huxley Neuron'\u001b[0m\u001b[0;34m)\u001b[0m\u001b[0;34m\u001b[0m\u001b[0;34m\u001b[0m\u001b[0m\n\u001b[0;32m----> 6\u001b[0;31m \u001b[0mplt\u001b[0m\u001b[0;34m.\u001b[0m\u001b[0mplot\u001b[0m\u001b[0;34m(\u001b[0m\u001b[0mt\u001b[0m\u001b[0;34m,\u001b[0m \u001b[0mresultat_No\u001b[0m\u001b[0;34m[\u001b[0m\u001b[0;34m'V'\u001b[0m\u001b[0;34m]\u001b[0m\u001b[0;34m,\u001b[0m \u001b[0;34m'k'\u001b[0m\u001b[0;34m)\u001b[0m\u001b[0;34m\u001b[0m\u001b[0;34m\u001b[0m\u001b[0m\n\u001b[0m\u001b[1;32m      7\u001b[0m \u001b[0mplt\u001b[0m\u001b[0;34m.\u001b[0m\u001b[0mylabel\u001b[0m\u001b[0;34m(\u001b[0m\u001b[0;34m'V (mV)'\u001b[0m\u001b[0;34m)\u001b[0m\u001b[0;34m\u001b[0m\u001b[0;34m\u001b[0m\u001b[0m\n\u001b[1;32m      8\u001b[0m \u001b[0;34m\u001b[0m\u001b[0m\n",
      "\u001b[0;31mNameError\u001b[0m: name 'resultat_No' is not defined"
     ]
    },
    {
     "data": {
      "image/png": "[encoded data removed]",
      "text/plain": [
       "<Figure size 1080x864 with 1 Axes>"
      ]
     },
     "metadata": {
      "needs_background": "light"
     },
     "output_type": "display_data"
    }
   ],
   "source": [
    "# Affiche les résultats de l'expérience\n",
    "plt.figure(figsize=(15,12))\n",
    "\n",
    "plt.subplot(4,1,1)\n",
    "plt.title('Hodgkin-Huxley Neuron')\n",
    "plt.plot(t, resultat_No['V'], 'k')\n",
    "plt.ylabel('V (mV)')\n",
    "\n",
    "plt.subplot(4,1,2)\n",
    "plt.plot(t, resultat_No['ina'], 'c', label='$I_{Na}$')\n",
    "plt.plot(t, resultat_No['ik'], 'y', label='$I_{K}$')\n",
    "plt.plot(t, resultat_No['il'], 'm', label='$I_{L}$')\n",
    "plt.ylabel('Current')\n",
    "plt.legend()\n",
    "\n",
    "plt.subplot(4,1,3)\n",
    "plt.plot(t, resultat_No['m'], 'r', label='m')\n",
    "plt.plot(t, resultat_No['h'], 'g', label='h')\n",
    "plt.plot(t, resultat_No['n'], 'b', label='n')\n",
    "plt.ylabel('Gating Value')\n",
    "plt.legend()\n",
    "\n",
    "plt.subplot(4,1,4)\n",
    "plt.plot(t, I_inj_No(t), 'k')\n",
    "plt.xlabel('t (ms)')\n",
    "plt.ylabel('$I_{inj}$ ($\\\\mu{A}/cm^2$)')\n",
    "plt.ylim(-1, 40)\n",
    "\n",
    "plt.show()"
   ]
  },
  {
   "cell_type": "code",
   "execution_count": null,
   "id": "19c68084-465b-4277-b9ad-842646d8eabe",
   "metadata": {},
   "outputs": [],
   "source": []
  }
 ],
 "metadata": {
  "kernelspec": {
   "display_name": "Python 3",
   "language": "python",
   "name": "python3"
  },
  "language_info": {
   "codemirror_mode": {
    "name": "ipython",
    "version": 3
   },
   "file_extension": ".py",
   "mimetype": "text/x-python",
   "name": "python",
   "nbconvert_exporter": "python",
   "pygments_lexer": "ipython3",
   "version": "3.8.8"
  }
 },
 "nbformat": 4,
 "nbformat_minor": 5
}
